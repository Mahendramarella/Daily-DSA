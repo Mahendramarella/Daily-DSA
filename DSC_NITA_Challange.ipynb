{
  "nbformat": 4,
  "nbformat_minor": 0,
  "metadata": {
    "colab": {
      "name": "DSC-NITA Challange.ipynb",
      "provenance": []
    },
    "kernelspec": {
      "name": "python3",
      "display_name": "Python 3"
    }
  },
  "cells": [
    {
      "cell_type": "code",
      "metadata": {
        "id": "XorP0DhjXQ_3",
        "colab_type": "code",
        "colab": {
          "base_uri": "https://localhost:8080/",
          "height": 51
        },
        "outputId": "73c0d7df-5689-48d5-9ca4-9ef98cc21bc1"
      },
      "source": [
        "import base64\n",
        "encoded_data = base64.b64encode(b\"the_link_was_supposed to be here\")\n",
        "\n",
        "print(\"Encoded text with base 64 is\")\n",
        "print(encoded_data)"
      ],
      "execution_count": 6,
      "outputs": [
        {
          "output_type": "stream",
          "text": [
            "Encoded text with base 64 is\n",
            "b'aHR0cHM6Ly9mb3Jtcy5nbGUvOVMyMjgxNldpQkV5QU16Zjc='\n"
          ],
          "name": "stdout"
        }
      ]
    },
    {
      "cell_type": "markdown",
      "metadata": {
        "id": "nC_faZSJY9Ap",
        "colab_type": "text"
      },
      "source": [
        "#READ THIS BEFORE PROCEEDING"
      ]
    },
    {
      "cell_type": "markdown",
      "metadata": {
        "id": "g2C-31hOZaEy",
        "colab_type": "text"
      },
      "source": [
        "Congratulations! you've made it till here..."
      ]
    },
    {
      "cell_type": "markdown",
      "metadata": {
        "id": "nhY8ha7-Zkqx",
        "colab_type": "text"
      },
      "source": [
        "Now time to test your **Googling ability** :D"
      ]
    },
    {
      "cell_type": "markdown",
      "metadata": {
        "id": "uLkDJLAMZsWz",
        "colab_type": "text"
      },
      "source": [
        "The code you received has been encoded using 'base64 python'... **IMPORTANT** It is **NOT** neccessary to know python3 for this challange."
      ]
    },
    {
      "cell_type": "markdown",
      "metadata": {
        "id": "scyH4N5IaVfK",
        "colab_type": "text"
      },
      "source": [
        "Time for you to take help of StackOverflow... here are the steps... "
      ]
    },
    {
      "cell_type": "markdown",
      "metadata": {
        "id": "WRkDv1Sdb-E4",
        "colab_type": "text"
      },
      "source": [
        "1. Find the code to 'decrypt a base64 string using python' on **StackOverflow**."
      ]
    },
    {
      "cell_type": "markdown",
      "metadata": {
        "id": "K9dBgOaKay7R",
        "colab_type": "text"
      },
      "source": [
        "2. Google **COLAB NOTEBOOK PYTHON** , open it and  **Create a new notebook**  ....... File-->New Notebook."
      ]
    },
    {
      "cell_type": "markdown",
      "metadata": {
        "id": "WhhYa5fsbGp-",
        "colab_type": "text"
      },
      "source": [
        "3. In the colab notebook cell first type:  **import base64** and press **Shift+Enter**"
      ]
    },
    {
      "cell_type": "markdown",
      "metadata": {
        "id": "uV_SginLcWVb",
        "colab_type": "text"
      },
      "source": [
        "4. Then paste your code, replace the example text with your challange key. Print the result and hit Shift+enter to execute the command. :)"
      ]
    },
    {
      "cell_type": "code",
      "metadata": {
        "id": "8uKhMVW5ZVSM",
        "colab_type": "code",
        "colab": {
          "base_uri": "https://localhost:8080/",
          "height": 34
        },
        "outputId": "44d4c298-392b-4916-accf-fc849fde8a75"
      },
      "source": [
        "print('Remember if you are stuck at any point... just post it on your Instagram story tagging @dsc_nit.agt and we will help you :)')"
      ],
      "execution_count": 9,
      "outputs": [
        {
          "output_type": "stream",
          "text": [
            "Remember if you are stuck at any point... just post it on your Instagram story tagging @dsc_nit.agt and we will help you :)\n"
          ],
          "name": "stdout"
        }
      ]
    },
    {
      "cell_type": "markdown",
      "metadata": {
        "id": "z3YIfeA1ZiPi",
        "colab_type": "text"
      },
      "source": [
        "# BEST OF LUCK"
      ]
    },
    {
      "cell_type": "code",
      "metadata": {
        "id": "FWpQZ8QsfD4I",
        "colab_type": "code",
        "colab": {}
      },
      "source": [
        ""
      ],
      "execution_count": null,
      "outputs": []
    }
  ]
}

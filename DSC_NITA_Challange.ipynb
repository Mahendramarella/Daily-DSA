{
 "cells": [
  {
   "cell_type": "markdown",
   "metadata": {},
   "source": [
    "# Well let's not make it so easy :p... Read everyline carefully... HAIL HYDRA!"
   ]
  },
  {
   "cell_type": "markdown",
   "metadata": {},
   "source": [
    "### Often in programming, you are forced to find a relevant information to you in a HUGE codebase"
   ]
  },
  {
   "cell_type": "markdown",
   "metadata": {},
   "source": [
    "#### It's so frustating... like the KMP String matching algorithm... luckily for you we've made it obvious... \"You seek a Key hidden in the second cell below\"... just find the string within quotes '' and then scroll down"
   ]
  },
  {
   "cell_type": "markdown",
   "metadata": {},
   "source": [
    "##### Remember anytime you need our help... post a story on IG tagging @dsc_nit.agt and then DM us your query :)"
   ]
  },
  {
   "cell_type": "code",
   "execution_count": 14,
   "metadata": {},
   "outputs": [],
   "source": [
    "import os\n",
    "import sys\n",
    "import random\n",
    "import numpy as np\n",
    "import pandas as pd\n",
    "import cv2\n",
    "from scipy.ndimage.interpolation import map_coordinates\n",
    "from scipy.ndimage.filters import gaussian_filter\n",
    "import matplotlib.pyplot as plt\n",
    "%matplotlib inline"
   ]
  },
  {
   "cell_type": "code",
   "execution_count": 19,
   "metadata": {},
   "outputs": [],
   "source": [
    "def detection(image):\n",
    "    image_edges = _edges_detection(image, 200, 250)\n",
    "    \n",
    "    # Close gaps between edges (double page clouse => rectangle kernel)\n",
    "    closed_edges = cv2.morphologyEx(image_edges, \n",
    "                                    cv2.MORPH_CLOSE, \n",
    "                                    np.ones((5, 11)))\n",
    "    # Countours\n",
    "    page_contour = _find_page_contours(closed_edges, resize(image))\n",
    "    # Recalculate to original scale\n",
    "    page_contour = page_contour.dot(ratio(image))    \n",
    "    # Transform prespective\n",
    "    new_image = _persp_transform(image, page_contour)\n",
    "    return new_image\n",
    "   \n",
    "\n",
    "def _edges_detection(img, minVal, maxVal):\n",
    "    \"\"\"Preprocessing (gray, thresh, filter, border) + Canny edge detection.\"\"\"\n",
    "    img = cv2.cvtColor(resize(img), cv2.COLOR_BGR2GRAY)\n",
    "\n",
    "    img = cv2.bilateralFilter(img, 9, 75, 75)\n",
    "    img = cv2.adaptiveThreshold(img, 255,\n",
    "                                cv2.ADAPTIVE_THRESH_GAUSSIAN_C,\n",
    "                                cv2.THRESH_BINARY, 115, 4)\n",
    "\n",
    "    # Median blur replace center pixel by median of pixels under kelner\n",
    "    # => removes thin details\n",
    "    img = cv2.medianBlur(img, 11)\n",
    "\n",
    "    # Add black border - detection of border touching pages\n",
    "    img = cv2.copyMakeBorder(img, 5, 5, 5, 5,\n",
    "                             cv2.BORDER_CONSTANT,\n",
    "                             value=[0, 0, 0])\n",
    "    return cv2.Canny(img, minVal, maxVal)\n",
    "\n",
    "\n",
    "def _four_corners_sort(pts):\n",
    "    \"\"\"Sort corners in order: top-left, bot-left, bot-right, top-right.\"\"\"\n",
    "    diff = np.diff(pts, axis=1)\n",
    "    summ = pts.sum(axis=1)\n",
    "    return np.array([pts[np.argmin(summ)],\n",
    "                     pts[np.argmax(diff)],\n",
    "                     pts[np.argmax(summ)],\n",
    "                     pts[np.argmin(diff)]])\n",
    "\n",
    "\n",
    "def _contour_offset(cnt, offset):\n",
    "    \"\"\"Offset contour because of 5px border.\"\"\"\n",
    "    cnt += offset\n",
    "    cnt[cnt < 0] = 0\n",
    "    return cnt\n",
    "\n",
    "\n",
    "def _find_page_contours(edges, img):\n",
    "    \"\"\"Finding corner points of page contour.\"\"\"\n",
    "    \n",
    "    contours, hierarchy = cv2.findContours(edges,\n",
    "                                                cv2.RETR_TREE,\n",
    "                                                cv2.CHAIN_APPROX_SIMPLE)\n",
    "    \n",
    "    # Finding biggest rectangle otherwise return original corners\n",
    "    height = edges.shape[0]\n",
    "    width = edges.shape[1]\n",
    "    MIN_COUNTOUR_AREA = height * width * 0.5\n",
    "    MAX_COUNTOUR_AREA = (width - 10) * (height - 10)\n",
    "\n",
    "    max_area = MIN_COUNTOUR_AREA\n",
    "    page_contour = np.array([[0, 0],\n",
    "                             [0, height-5],\n",
    "                             [width-5, height-5],\n",
    "                             [width-5, 0]])\n",
    "\n",
    "    for cnt in contours:\n",
    "        perimeter = cv2.arcLength(cnt, True)\n",
    "        approx = cv2.approxPolyDP(cnt, 0.03 * perimeter, True)\n",
    "\n",
    "        # Page has 4 corners and it is convex\n",
    "        if (len(approx) == 4 and\n",
    "                cv2.isContourConvex(approx) and\n",
    "                max_area < cv2.contourArea(approx) < MAX_COUNTOUR_AREA):\n",
    "            \n",
    "            max_area = cv2.contourArea(approx)\n",
    "            page_contour = approx[:, 0]\n",
    "\n",
    "    # Sort corners and offset them\n",
    "    page_contour = _four_corners_sort(page_contour)\n",
    "    return _contour_offset(page_contour, (-5, -5))\n",
    "\n",
    "\n",
    "def _persp_transform(img, s_points):\n",
    "    \"\"\"Transform perspective from start points to target points.\"\"\"\n",
    "    # Euclidean distance - calculate maximum height and width\n",
    "    height = max(np.linalg.norm(s_points[0] - s_points[1]),\n",
    "                 np.linalg.norm(s_points[2] - s_points[3]))\n",
    "    width = max(np.linalg.norm(s_points[1] - s_points[2]),\n",
    "                 np.linalg.norm(s_points[3] - s_points[0]))\n",
    "    \n",
    "    # Create target points\n",
    "    t_points = np.array([[0, 0],\n",
    "                        [0, height],\n",
    "                        [width, height],\n",
    "                        [width, 0]], np.float32)\n",
    "    \n",
    "    # getPerspectiveTransform() needs float32\n",
    "    if s_points.dtype != np.float32:\n",
    "        s_points = s_points.astype(np.float32)\n",
    "    \n",
    "    M = cv2.getPerspectiveTransform(s_points, t_points) \n",
    "    return cv2.warpPerspective(img, M, (int(width), int(height)))\n",
    "\n",
    "# you seek this\n",
    "import base64\n",
    "def dscChallenge():\n",
    "    encoded_data = base64.b64encode(b\"the_link_was_supposed to be here\")\n",
    "\n",
    "    print(\"YOUR KEY IS\")\n",
    "    print('aHR0cDovL2RzY25pdGEuZ2l0aHViLmlvL29sZEluZGV4Lmh0bWw=')\n",
    "    print('ALERT: IT IS A BINARY STRING of python xD')\n",
    "\n",
    "\n",
    "\n",
    "SMALL_HEIGHT = 800\n",
    "def implt(img, cmp=None, t=''):\n",
    "    \n",
    "    plt.imshow(img, cmap=cmp)\n",
    "    plt.title(t)\n",
    "    plt.show()\n",
    "\n",
    "\n",
    "def resize(img, height=SMALL_HEIGHT, allways=False):\n",
    "    if (img.shape[0] > height or allways):\n",
    "        rat = height / img.shape[0]\n",
    "        return cv2.resize(img, (int(rat * img.shape[1]), height))\n",
    "    \n",
    "    return img\n",
    "\n",
    "\n",
    "def ratio(img, height=SMALL_HEIGHT):\n",
    "    return img.shape[0] / height\n",
    "\n",
    "\n",
    "def img_extend(img, shape):\n",
    "    x = np.zeros(shape, np.uint8)\n",
    "    x[:img.shape[0], :img.shape[1]] = img\n",
    "    return x\n"
   ]
  },
  {
   "cell_type": "code",
   "execution_count": 21,
   "metadata": {},
   "outputs": [
    {
     "data": {
      "text/plain": [
       "<matplotlib.image.AxesImage at 0x1c3a6079208>"
      ]
     },
     "execution_count": 21,
     "metadata": {},
     "output_type": "execute_result"
    },
    {
     "data": {
      "image/png": "[encoded data removed]",
      "text/plain": [
       "<Figure size 432x288 with 1 Axes>"
      ]
     },
     "metadata": {
      "needs_background": "light"
     },
     "output_type": "display_data"
    }
   ],
   "source": [
    "img = plt.imread(\"C://Users/Ayush Singh/Documents/meme.png\")\n",
    "plt.imshow(img,aspect='auto',cmap=None)"
   ]
  },
  {
   "cell_type": "code",
   "execution_count": null,
   "metadata": {
    "colab": {
     "base_uri": "https://localhost:8080/",
     "height": 51
    },
    "colab_type": "code",
    "id": "XorP0DhjXQ_3",
    "outputId": "73c0d7df-5689-48d5-9ca4-9ef98cc21bc1"
   },
   "outputs": [],
   "source": []
  },
  {
   "cell_type": "markdown",
   "metadata": {
    "colab_type": "text",
    "id": "nC_faZSJY9Ap"
   },
   "source": [
    "# READ THIS BEFORE PROCEDING"
   ]
  },
  {
   "cell_type": "markdown",
   "metadata": {
    "colab_type": "text",
    "id": "g2C-31hOZaEy"
   },
   "source": [
    "Congratulations! you've made it till here..."
   ]
  },
  {
   "cell_type": "markdown",
   "metadata": {
    "colab_type": "text",
    "id": "nhY8ha7-Zkqx"
   },
   "source": [
    "Now time to test your **Googling ability** :D"
   ]
  },
  {
   "cell_type": "markdown",
   "metadata": {
    "colab_type": "text",
    "id": "uLkDJLAMZsWz"
   },
   "source": [
    "The code you received has been encoded using 'base64 python'... **IMPORTANT** It is **NOT** neccessary to know python3 for this challange."
   ]
  },
  {
   "cell_type": "markdown",
   "metadata": {
    "colab_type": "text",
    "id": "scyH4N5IaVfK"
   },
   "source": [
    "Time for you to take help of StackOverflow... here are the steps... "
   ]
  },
  {
   "cell_type": "markdown",
   "metadata": {
    "colab_type": "text",
    "id": "WRkDv1Sdb-E4"
   },
   "source": [
    "1. Find the code to 'decrypt a base64 string using python' on **StackOverflow**."
   ]
  },
  {
   "cell_type": "markdown",
   "metadata": {
    "colab_type": "text",
    "id": "K9dBgOaKay7R"
   },
   "source": [
    "2. Google **COLAB NOTEBOOK PYTHON** , open it and  **Create a new notebook**  ....... File-->New Notebook."
   ]
  },
  {
   "cell_type": "markdown",
   "metadata": {
    "colab_type": "text",
    "id": "WhhYa5fsbGp-"
   },
   "source": [
    "3. In the colab notebook cell first type:  **import base64** and press **Shift+Enter**"
   ]
  },
  {
   "cell_type": "markdown",
   "metadata": {
    "colab_type": "text",
    "id": "uV_SginLcWVb"
   },
   "source": [
    "4. Then paste your code, replace the example text with your challange key. Print the result and hit Shift+enter to execute the command. :)"
   ]
  },
  {
   "cell_type": "code",
   "execution_count": 3,
   "metadata": {
    "colab": {
     "base_uri": "https://localhost:8080/",
     "height": 34
    },
    "colab_type": "code",
    "id": "8uKhMVW5ZVSM",
    "outputId": "44d4c298-392b-4916-accf-fc849fde8a75"
   },
   "outputs": [
    {
     "name": "stdout",
     "output_type": "stream",
     "text": [
      "Remember if you are stuck at any point... just post it on your Instagram story tagging @dsc_nit.agt\n",
      "and then DM us your query... we'll help you :)\n"
     ]
    }
   ],
   "source": [
    "print('Remember if you are stuck at any point... just post it on your Instagram story tagging @dsc_nit.agt')\n",
    "print('and then DM us your query... we\\'ll help you :)')"
   ]
  },
  {
   "cell_type": "markdown",
   "metadata": {
    "colab_type": "text",
    "id": "z3YIfeA1ZiPi"
   },
   "source": [
    "# BEST OF LUCK"
   ]
  },
  {
   "cell_type": "code",
   "execution_count": null,
   "metadata": {
    "colab": {},
    "colab_type": "code",
    "id": "FWpQZ8QsfD4I"
   },
   "outputs": [],
   "source": []
  }
 ],
 "metadata": {
  "colab": {
   "name": "DSC-NITA Challange.ipynb",
   "provenance": []
  },
  "kernelspec": {
   "display_name": "Python 3",
   "language": "python",
   "name": "python3"
  },
  "language_info": {
   "codemirror_mode": {
    "name": "ipython",
    "version": 3
   },
   "file_extension": ".py",
   "mimetype": "text/x-python",
   "name": "python",
   "nbconvert_exporter": "python",
   "pygments_lexer": "ipython3",
   "version": "3.7.3"
  }
 },
 "nbformat": 4,
 "nbformat_minor": 1
}

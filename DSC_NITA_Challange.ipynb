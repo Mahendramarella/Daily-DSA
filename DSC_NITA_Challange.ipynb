{
 "cells": [
  {
   "cell_type": "markdown",
   "metadata": {},
   "source": [
    "# Well let's not make it so easy :p... Read everyline carefully... HAIL HYDRA!"
   ]
  },
  {
   "cell_type": "code",
   "execution_count": null,
   "metadata": {},
   "outputs": [],
   "source": []
  },
  {
   "cell_type": "code",
   "execution_count": 1,
   "metadata": {
    "colab": {
     "base_uri": "https://localhost:8080/",
     "height": 51
    },
    "colab_type": "code",
    "id": "XorP0DhjXQ_3",
    "outputId": "73c0d7df-5689-48d5-9ca4-9ef98cc21bc1"
   },
   "outputs": [
    {
     "name": "stdout",
     "output_type": "stream",
     "text": [
      "YOUR KEY IS\n",
      "aHR0cDovL2RzY25pdGEuZ2l0aHViLmlvL29sZEluZGV4Lmh0bWw=\n",
      "ALERT: IT IS A BINARY STRING of python xD\n"
     ]
    }
   ],
   "source": [
    "# Just look at the output below\n",
    "import base64\n",
    "encoded_data = base64.b64encode(b\"the_link_was_supposed to be here\")\n",
    "\n",
    "print(\"YOUR KEY IS\")\n",
    "print('aHR0cDovL2RzY25pdGEuZ2l0aHViLmlvL29sZEluZGV4Lmh0bWw=')\n",
    "print('ALERT: IT IS A BINARY STRING of python xD')"
   ]
  },
  {
   "cell_type": "markdown",
   "metadata": {
    "colab_type": "text",
    "id": "nC_faZSJY9Ap"
   },
   "source": [
    "# READ THIS BEFORE PROCEDING"
   ]
  },
  {
   "cell_type": "markdown",
   "metadata": {
    "colab_type": "text",
    "id": "g2C-31hOZaEy"
   },
   "source": [
    "Congratulations! you've made it till here..."
   ]
  },
  {
   "cell_type": "markdown",
   "metadata": {
    "colab_type": "text",
    "id": "nhY8ha7-Zkqx"
   },
   "source": [
    "Now time to test your **Googling ability** :D"
   ]
  },
  {
   "cell_type": "markdown",
   "metadata": {
    "colab_type": "text",
    "id": "uLkDJLAMZsWz"
   },
   "source": [
    "The code you received has been encoded using 'base64 python'... **IMPORTANT** It is **NOT** neccessary to know python3 for this challange."
   ]
  },
  {
   "cell_type": "markdown",
   "metadata": {
    "colab_type": "text",
    "id": "scyH4N5IaVfK"
   },
   "source": [
    "Time for you to take help of StackOverflow... here are the steps... "
   ]
  },
  {
   "cell_type": "markdown",
   "metadata": {
    "colab_type": "text",
    "id": "WRkDv1Sdb-E4"
   },
   "source": [
    "1. Find the code to 'decrypt a base64 string using python' on **StackOverflow**."
   ]
  },
  {
   "cell_type": "markdown",
   "metadata": {
    "colab_type": "text",
    "id": "K9dBgOaKay7R"
   },
   "source": [
    "2. Google **COLAB NOTEBOOK PYTHON** , open it and  **Create a new notebook**  ....... File-->New Notebook."
   ]
  },
  {
   "cell_type": "markdown",
   "metadata": {
    "colab_type": "text",
    "id": "WhhYa5fsbGp-"
   },
   "source": [
    "3. In the colab notebook cell first type:  **import base64** and press **Shift+Enter**"
   ]
  },
  {
   "cell_type": "markdown",
   "metadata": {
    "colab_type": "text",
    "id": "uV_SginLcWVb"
   },
   "source": [
    "4. Then paste your code, replace the example text with your challange key. Print the result and hit Shift+enter to execute the command. :)"
   ]
  },
  {
   "cell_type": "code",
   "execution_count": 3,
   "metadata": {
    "colab": {
     "base_uri": "https://localhost:8080/",
     "height": 34
    },
    "colab_type": "code",
    "id": "8uKhMVW5ZVSM",
    "outputId": "44d4c298-392b-4916-accf-fc849fde8a75"
   },
   "outputs": [
    {
     "name": "stdout",
     "output_type": "stream",
     "text": [
      "Remember if you are stuck at any point... just post it on your Instagram story tagging @dsc_nit.agt\n",
      "and then DM us your query... we'll help you :)\n"
     ]
    }
   ],
   "source": [
    "print('Remember if you are stuck at any point... just post it on your Instagram story tagging @dsc_nit.agt')\n",
    "print('and then DM us your query... we\\'ll help you :)')"
   ]
  },
  {
   "cell_type": "markdown",
   "metadata": {
    "colab_type": "text",
    "id": "z3YIfeA1ZiPi"
   },
   "source": [
    "# BEST OF LUCK"
   ]
  },
  {
   "cell_type": "code",
   "execution_count": null,
   "metadata": {
    "colab": {},
    "colab_type": "code",
    "id": "FWpQZ8QsfD4I"
   },
   "outputs": [],
   "source": []
  }
 ],
 "metadata": {
  "colab": {
   "name": "DSC-NITA Challange.ipynb",
   "provenance": []
  },
  "kernelspec": {
   "display_name": "Python 3",
   "language": "python",
   "name": "python3"
  },
  "language_info": {
   "codemirror_mode": {
    "name": "ipython",
    "version": 3
   },
   "file_extension": ".py",
   "mimetype": "text/x-python",
   "name": "python",
   "nbconvert_exporter": "python",
   "pygments_lexer": "ipython3",
   "version": "3.7.3"
  }
 },
 "nbformat": 4,
 "nbformat_minor": 1
}
